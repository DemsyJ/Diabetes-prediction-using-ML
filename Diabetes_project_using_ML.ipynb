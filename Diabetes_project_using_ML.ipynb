{
 "cells": [
  {
   "cell_type": "code",
   "execution_count": null,
   "id": "0b7e0c19-39bc-4145-809a-fc3f8b4eba15",
   "metadata": {},
   "outputs": [],
   "source": [
    "# Diabetes project using machine learning....\n",
    "\n",
    "# Importing the dependencies\n",
    "import pandas as pd\n",
    "import numpy as np\n",
    "import matplotlib.pyplot as mlt\n",
    "\n",
    "# To standardize the data to common range.\n",
    "from sklearn.preprocessing import StandardScaler\n",
    "\n",
    "from sklearn.model_selection import train_test_split\n",
    "from sklearn import svm\n",
    "from sklearn.metrics import accuracy_score"
   ]
  },
  {
   "cell_type": "code",
   "execution_count": null,
   "id": "732b222f-ffc8-4ac6-86ba-e2c485ba96e0",
   "metadata": {},
   "outputs": [],
   "source": [
    "# Data Collection and Analysis\n",
    "\n",
    "#loading the diabetes datasets to a pandas DataFrame\n",
    "diabetes_dataset = pd.read_csv(\"dataset\\diabetes.csv\")"
   ]
  },
  {
   "cell_type": "code",
   "execution_count": null,
   "id": "41e36c99-9094-4eda-9383-27b65ffc0e5f",
   "metadata": {},
   "outputs": [],
   "source": [
    "# printing the first five rows of the dataset\n",
    "diabetes_dataset.head()"
   ]
  },
  {
   "cell_type": "code",
   "execution_count": null,
   "id": "570f32cf-2aa9-4393-b181-a92c81b527f3",
   "metadata": {},
   "outputs": [],
   "source": [
    "# printing the last five rows of the dataset\n",
    "diabetes_dataset.tail()"
   ]
  },
  {
   "cell_type": "code",
   "execution_count": null,
   "id": "5c405846-aec0-46f8-bf21-9a79d5d6c714",
   "metadata": {},
   "outputs": [],
   "source": [
    "# to get more info on the file....\n",
    "pd.read_csv?"
   ]
  },
  {
   "cell_type": "code",
   "execution_count": null,
   "id": "cc9c6721-9586-40f4-b178-15632ace326f",
   "metadata": {},
   "outputs": [],
   "source": [
    "# Number of rows and columns in the datasets\n",
    "diabetes_dataset.shape"
   ]
  },
  {
   "cell_type": "code",
   "execution_count": null,
   "id": "9dbe8b98-c198-4ceb-85fc-79266448c8db",
   "metadata": {},
   "outputs": [],
   "source": [
    "# Getting the statistical measures of the data\n",
    "diabetes_dataset.describe()"
   ]
  },
  {
   "cell_type": "code",
   "execution_count": null,
   "id": "26a1cc79-d02e-4afc-9e2c-2eb89c02aa15",
   "metadata": {},
   "outputs": [],
   "source": [
    "diabetes_dataset.info()"
   ]
  },
  {
   "cell_type": "code",
   "execution_count": null,
   "id": "9e50d96a-57d7-41ec-8a43-6ddbce4b3de9",
   "metadata": {},
   "outputs": [],
   "source": [
    "# Check the ones and zeros in Outcome\n",
    "diabetes_dataset['Outcome'].value_counts()"
   ]
  },
  {
   "cell_type": "code",
   "execution_count": null,
   "id": "f90e3b8a-290f-4249-b028-403e205a2f22",
   "metadata": {},
   "outputs": [],
   "source": [
    "# label 0 rep Diabeti, label 1 rep Non-diabetic"
   ]
  },
  {
   "cell_type": "code",
   "execution_count": null,
   "id": "e7818611-016e-49a1-b815-dd4e3a1b64b8",
   "metadata": {},
   "outputs": [],
   "source": [
    "# The mean value for the Outcome\n",
    "diabetes_dataset.groupby('Outcome').mean()"
   ]
  },
  {
   "cell_type": "code",
   "execution_count": null,
   "id": "b6e553ae-efd5-4246-a554-d5908fe7c2ac",
   "metadata": {},
   "outputs": [],
   "source": [
    "# seperate the data and labels\n",
    "\n",
    "X = diabetes_dataset.drop(columns = 'Outcome', axis=1)\n",
    "Y = diabetes_dataset['Outcome']"
   ]
  },
  {
   "cell_type": "code",
   "execution_count": null,
   "id": "444fc89d-82db-4be6-889e-6a424f2bd9a0",
   "metadata": {},
   "outputs": [],
   "source": [
    "print(X)"
   ]
  },
  {
   "cell_type": "code",
   "execution_count": null,
   "id": "0cd4ecd6-67ae-40ee-8698-1f118d5b1a51",
   "metadata": {},
   "outputs": [],
   "source": [
    "print(Y)"
   ]
  },
  {
   "cell_type": "code",
   "execution_count": null,
   "id": "54286973-b8ee-44b3-9a1d-9bf427789096",
   "metadata": {},
   "outputs": [],
   "source": [
    "# Data Standardization....in a particular range so that our model can make better prediction\n",
    "\n",
    "scaler = StandardScaler()"
   ]
  },
  {
   "cell_type": "code",
   "execution_count": null,
   "id": "4ec01200-a0c3-4bb8-b6fa-d17be6e3f141",
   "metadata": {},
   "outputs": [],
   "source": [
    "scaler.fit(X)"
   ]
  },
  {
   "cell_type": "code",
   "execution_count": null,
   "id": "4875b761-2bac-46a3-a027-4d3ab3d62402",
   "metadata": {},
   "outputs": [],
   "source": [
    "# transform the data\n",
    "standardized_data = scaler.transform(X)"
   ]
  },
  {
   "cell_type": "code",
   "execution_count": null,
   "id": "da01df48-4516-4196-882c-01efbea84ff7",
   "metadata": {},
   "outputs": [],
   "source": [
    "print(standardized_data)"
   ]
  },
  {
   "cell_type": "code",
   "execution_count": null,
   "id": "fa08d1e5-ae61-49fa-ba36-88fb757a9b5a",
   "metadata": {},
   "outputs": [],
   "source": [
    "# feed the standardized data to x, and outcome to Y\n",
    "\n",
    "X = standardized_data\n",
    "Y = diabetes_dataset['Outcome']"
   ]
  },
  {
   "cell_type": "code",
   "execution_count": null,
   "id": "1c150913-53a4-4b31-9076-e4e7d6bbda11",
   "metadata": {},
   "outputs": [],
   "source": [
    "print(X)\n",
    "print(Y)"
   ]
  },
  {
   "cell_type": "code",
   "execution_count": null,
   "id": "686438e1-cd3c-4e68-96b5-45de4b4399c5",
   "metadata": {},
   "outputs": [],
   "source": [
    "# Train, Test, split\n",
    "X_train, X_test, Y_train, Y_test = train_test_split(X,Y, test_size= 0.2, stratify=Y, random_state = 2)"
   ]
  },
  {
   "cell_type": "code",
   "execution_count": null,
   "id": "e6cedbb9-da1a-4516-8fff-e42f883fc11b",
   "metadata": {},
   "outputs": [],
   "source": [
    "print(X.shape, X_train.shape, X_test.shape)"
   ]
  },
  {
   "cell_type": "code",
   "execution_count": null,
   "id": "a230f9c5-3148-4a1e-8da4-7efa6a96773a",
   "metadata": {},
   "outputs": [],
   "source": [
    "print(Y.shape, Y_train.shape, Y_test.shape)"
   ]
  },
  {
   "cell_type": "code",
   "execution_count": null,
   "id": "a286cc40-db4b-4c0b-ae0a-b31212768cbd",
   "metadata": {},
   "outputs": [],
   "source": [
    "# TRAINING THE MODEL"
   ]
  },
  {
   "cell_type": "code",
   "execution_count": null,
   "id": "7a778c8d-4146-4e2e-b141-4a2c43675f04",
   "metadata": {},
   "outputs": [],
   "source": [
    "# create a variable\n",
    "classifier = svm.SVC(kernel='linear')"
   ]
  },
  {
   "cell_type": "code",
   "execution_count": null,
   "id": "29d535c4-8c60-413e-a563-5362a3dc793a",
   "metadata": {},
   "outputs": [],
   "source": [
    "# Training the support vector machine classifier\n",
    "classifier.fit(X_train, Y_train)"
   ]
  },
  {
   "cell_type": "code",
   "execution_count": null,
   "id": "2b4d2131-442e-4c9b-b7c4-7502cd9014c0",
   "metadata": {},
   "outputs": [],
   "source": [
    "# MODEL EVALUATION"
   ]
  },
  {
   "cell_type": "code",
   "execution_count": null,
   "id": "dd97e829-0667-475c-81a9-075f47716231",
   "metadata": {},
   "outputs": [],
   "source": [
    "# Accuracy score on the training data\n",
    "X_train_prediction = classifier.predict(X_train)\n",
    "training_data_accuracy  = accuracy_score(X_train_prediction, Y_train)\n"
   ]
  },
  {
   "cell_type": "code",
   "execution_count": null,
   "id": "ec15ab16-9294-437c-81b0-e8bf529dd1b0",
   "metadata": {},
   "outputs": [],
   "source": [
    "print(\"Accuracy score of the training data : \", training_data_accuracy)"
   ]
  },
  {
   "cell_type": "code",
   "execution_count": null,
   "id": "712c55b5-9808-4069-97be-a311783c36ca",
   "metadata": {},
   "outputs": [],
   "source": [
    "# Accuracy score on the test data\n",
    "X_test_prediction = classifier.predict(X_test)\n",
    "test_data_accuracy  = accuracy_score(X_test_prediction, Y_test)\n"
   ]
  },
  {
   "cell_type": "code",
   "execution_count": null,
   "id": "a8ad14cb-4292-4346-bb65-d7cbcf323ab9",
   "metadata": {},
   "outputs": [],
   "source": [
    "print(\"Accuracy score of the test data : \", test_data_accuracy)"
   ]
  },
  {
   "cell_type": "code",
   "execution_count": null,
   "id": "7fb55644-fb84-4f2b-bbbd-98b7ba4114bb",
   "metadata": {},
   "outputs": [],
   "source": [
    "# MAKING A PREDICTIVE SYSTEM"
   ]
  },
  {
   "cell_type": "raw",
   "id": "0b0260fb-4dc4-47bd-ae9f-a011eb6baa8a",
   "metadata": {},
   "source": [
    "input_data = (4, 110, 92, 0,0, 37.6, 0.191, 30)\n",
    "\n",
    "# Changing the input data to a numpy array\n",
    "input_data_as_numpy_array = np.asarray(input_data)\n",
    "\n",
    "#reshape the array as we are predicting for one instance. \n",
    "input_data_reshaped = input_data_as_numpy_array.reshape(1, -1)\n",
    "\n",
    "#Standardized the input data\n",
    "std_data = scaler.transform(input_data_reshaped)\n",
    "print(std_data)\n",
    "\n",
    "prediction = classifier.predict(std_data)\n",
    "print(prediction)\n",
    "\n",
    "\n",
    "if (prediction[0] ==0):\n",
    "    print('The person is not diabetic')\n",
    "else:\n",
    "    print('The person is diabetic')\n",
    "    "
   ]
  },
  {
   "cell_type": "code",
   "execution_count": null,
   "id": "3333c3cf-087c-406a-8441-fe2841cd8996",
   "metadata": {},
   "outputs": [],
   "source": []
  },
  {
   "cell_type": "code",
   "execution_count": null,
   "id": "7afffac2-40da-44c5-ab85-acfcf3026538",
   "metadata": {},
   "outputs": [],
   "source": []
  },
  {
   "cell_type": "code",
   "execution_count": null,
   "id": "24f9feb0-a757-4534-9fa8-df6817682269",
   "metadata": {},
   "outputs": [],
   "source": []
  }
 ],
 "metadata": {
  "kernelspec": {
   "display_name": "Python 3 (ipykernel)",
   "language": "python",
   "name": "python3"
  },
  "language_info": {
   "codemirror_mode": {
    "name": "ipython",
    "version": 3
   },
   "file_extension": ".py",
   "mimetype": "text/x-python",
   "name": "python",
   "nbconvert_exporter": "python",
   "pygments_lexer": "ipython3",
   "version": "3.10.4"
  }
 },
 "nbformat": 4,
 "nbformat_minor": 5
}
